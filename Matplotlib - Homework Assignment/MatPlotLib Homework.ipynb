{
 "cells": [
  {
   "cell_type": "markdown",
   "metadata": {},
   "source": [
    "## Observations and Insights"
   ]
  },
  {
   "cell_type": "markdown",
   "metadata": {},
   "source": [
    "# Conclusions\n",
    "# 1) The two drugs that seem to have the largest positive impact on tumor volume are Ramicane and Capomulin. It would be interesting to combine gender data into this analysis to see if a specific drug was better for a specific gender.\n",
    "# 2) Of the four top drugs analyzed, there was only one data point that was an outlier. This was for the drug Infubinol and the outlier was below the lower bound value. It is interesting to note this data point is in line with the average values for the two most successful drugs.\n",
    "# 3) Tumor size is closely correlated with weight. The correlation coefficient of 0.84 indicates that the more a mouse weighs, the larger their tumor is.\n"
   ]
  },
  {
   "cell_type": "markdown",
   "metadata": {},
   "source": [
    "## Dependencies and starter code"
   ]
  },
  {
   "cell_type": "code",
   "execution_count": 1,
   "metadata": {},
   "outputs": [
    {
     "data": {
      "text/html": [
       "<div>\n",
       "<style scoped>\n",
       "    .dataframe tbody tr th:only-of-type {\n",
       "        vertical-align: middle;\n",
       "    }\n",
       "\n",
       "    .dataframe tbody tr th {\n",
       "        vertical-align: top;\n",
       "    }\n",
       "\n",
       "    .dataframe thead th {\n",
       "        text-align: right;\n",
       "    }\n",
       "</style>\n",
       "<table border=\"1\" class=\"dataframe\">\n",
       "  <thead>\n",
       "    <tr style=\"text-align: right;\">\n",
       "      <th></th>\n",
       "      <th>Mouse ID</th>\n",
       "      <th>Drug Regimen</th>\n",
       "      <th>Sex</th>\n",
       "      <th>Age_months</th>\n",
       "      <th>Weight (g)</th>\n",
       "      <th>Timepoint</th>\n",
       "      <th>Tumor Volume (mm3)</th>\n",
       "      <th>Metastatic Sites</th>\n",
       "    </tr>\n",
       "  </thead>\n",
       "  <tbody>\n",
       "    <tr>\n",
       "      <td>0</td>\n",
       "      <td>k403</td>\n",
       "      <td>Ramicane</td>\n",
       "      <td>Male</td>\n",
       "      <td>21</td>\n",
       "      <td>16</td>\n",
       "      <td>0</td>\n",
       "      <td>45.000000</td>\n",
       "      <td>0</td>\n",
       "    </tr>\n",
       "    <tr>\n",
       "      <td>1</td>\n",
       "      <td>k403</td>\n",
       "      <td>Ramicane</td>\n",
       "      <td>Male</td>\n",
       "      <td>21</td>\n",
       "      <td>16</td>\n",
       "      <td>5</td>\n",
       "      <td>38.825898</td>\n",
       "      <td>0</td>\n",
       "    </tr>\n",
       "    <tr>\n",
       "      <td>2</td>\n",
       "      <td>k403</td>\n",
       "      <td>Ramicane</td>\n",
       "      <td>Male</td>\n",
       "      <td>21</td>\n",
       "      <td>16</td>\n",
       "      <td>10</td>\n",
       "      <td>35.014271</td>\n",
       "      <td>1</td>\n",
       "    </tr>\n",
       "    <tr>\n",
       "      <td>3</td>\n",
       "      <td>k403</td>\n",
       "      <td>Ramicane</td>\n",
       "      <td>Male</td>\n",
       "      <td>21</td>\n",
       "      <td>16</td>\n",
       "      <td>15</td>\n",
       "      <td>34.223992</td>\n",
       "      <td>1</td>\n",
       "    </tr>\n",
       "    <tr>\n",
       "      <td>4</td>\n",
       "      <td>k403</td>\n",
       "      <td>Ramicane</td>\n",
       "      <td>Male</td>\n",
       "      <td>21</td>\n",
       "      <td>16</td>\n",
       "      <td>20</td>\n",
       "      <td>32.997729</td>\n",
       "      <td>1</td>\n",
       "    </tr>\n",
       "  </tbody>\n",
       "</table>\n",
       "</div>"
      ],
      "text/plain": [
       "  Mouse ID Drug Regimen   Sex  Age_months  Weight (g)  Timepoint  \\\n",
       "0     k403     Ramicane  Male          21          16          0   \n",
       "1     k403     Ramicane  Male          21          16          5   \n",
       "2     k403     Ramicane  Male          21          16         10   \n",
       "3     k403     Ramicane  Male          21          16         15   \n",
       "4     k403     Ramicane  Male          21          16         20   \n",
       "\n",
       "   Tumor Volume (mm3)  Metastatic Sites  \n",
       "0           45.000000                 0  \n",
       "1           38.825898                 0  \n",
       "2           35.014271                 1  \n",
       "3           34.223992                 1  \n",
       "4           32.997729                 1  "
      ]
     },
     "execution_count": 1,
     "metadata": {},
     "output_type": "execute_result"
    }
   ],
   "source": [
    "# Dependencies and Setup\n",
    "import matplotlib.pyplot as plt\n",
    "import pandas as pd\n",
    "import scipy.stats as st\n",
    "import numpy as np\n",
    "from scipy.stats import linregress\n",
    "\n",
    "# Study data files\n",
    "mouse_metadata = \"data/Mouse_metadata.csv\"\n",
    "study_results = \"data/Study_results.csv\"\n",
    "\n",
    "# Read the mouse data and the study results\n",
    "mouse_metadata = pd.read_csv(mouse_metadata)\n",
    "study_results = pd.read_csv(study_results)\n",
    "\n",
    "# Combine the data into a single dataset\n",
    "mouse_merge = pd.merge(mouse_metadata,study_results, on=\"Mouse ID\")\n",
    "mouse_merge.head()\n",
    "\n",
    "# Conclusions\n",
    "# 1) The two drugs that seem to have the largest positive impact on tumor volume are Ramicane and Capomulin. It would be interesting to combine gender data into this analysis to see if a specific drug was better for a specific gender.\n",
    "# 2) Of the four top drugs analyzed, there was only one data point that was an outlier. This was for the drug Infubinol and the outlier was below the lower bound value. It is interesting to note this data point is in line with the average values for the two most successful drugs.\n",
    "# 3) Tumor size is closely correlated with weight. The correlation coefficient of 0.84 indicates that the more a mouse weighs, the larger their tumor is.\n",
    "\n"
   ]
  },
  {
   "cell_type": "markdown",
   "metadata": {},
   "source": [
    "## Summary statistics"
   ]
  },
  {
   "cell_type": "code",
   "execution_count": 2,
   "metadata": {},
   "outputs": [
    {
     "data": {
      "text/html": [
       "<div>\n",
       "<style scoped>\n",
       "    .dataframe tbody tr th:only-of-type {\n",
       "        vertical-align: middle;\n",
       "    }\n",
       "\n",
       "    .dataframe tbody tr th {\n",
       "        vertical-align: top;\n",
       "    }\n",
       "\n",
       "    .dataframe thead th {\n",
       "        text-align: right;\n",
       "    }\n",
       "</style>\n",
       "<table border=\"1\" class=\"dataframe\">\n",
       "  <thead>\n",
       "    <tr style=\"text-align: right;\">\n",
       "      <th></th>\n",
       "      <th>Tumor Volume (mm3)_mean</th>\n",
       "      <th>Tumor Volume (mm3)_median</th>\n",
       "      <th>Tumor Volume (mm3)_var</th>\n",
       "      <th>Tumor Volume (mm3)_std</th>\n",
       "      <th>Tumor Volume (mm3)_sem</th>\n",
       "    </tr>\n",
       "    <tr>\n",
       "      <th>Drug Regimen</th>\n",
       "      <th></th>\n",
       "      <th></th>\n",
       "      <th></th>\n",
       "      <th></th>\n",
       "      <th></th>\n",
       "    </tr>\n",
       "  </thead>\n",
       "  <tbody>\n",
       "    <tr>\n",
       "      <td>Capomulin</td>\n",
       "      <td>40.675741</td>\n",
       "      <td>41.557809</td>\n",
       "      <td>24.947764</td>\n",
       "      <td>4.994774</td>\n",
       "      <td>0.329346</td>\n",
       "    </tr>\n",
       "    <tr>\n",
       "      <td>Ceftamin</td>\n",
       "      <td>52.591172</td>\n",
       "      <td>51.776157</td>\n",
       "      <td>39.290177</td>\n",
       "      <td>6.268188</td>\n",
       "      <td>0.469821</td>\n",
       "    </tr>\n",
       "    <tr>\n",
       "      <td>Infubinol</td>\n",
       "      <td>52.884795</td>\n",
       "      <td>51.820584</td>\n",
       "      <td>43.128684</td>\n",
       "      <td>6.567243</td>\n",
       "      <td>0.492236</td>\n",
       "    </tr>\n",
       "    <tr>\n",
       "      <td>Ketapril</td>\n",
       "      <td>55.235638</td>\n",
       "      <td>53.698743</td>\n",
       "      <td>68.553577</td>\n",
       "      <td>8.279709</td>\n",
       "      <td>0.603860</td>\n",
       "    </tr>\n",
       "    <tr>\n",
       "      <td>Naftisol</td>\n",
       "      <td>54.331565</td>\n",
       "      <td>52.509285</td>\n",
       "      <td>66.173479</td>\n",
       "      <td>8.134708</td>\n",
       "      <td>0.596466</td>\n",
       "    </tr>\n",
       "    <tr>\n",
       "      <td>Placebo</td>\n",
       "      <td>54.033581</td>\n",
       "      <td>52.288934</td>\n",
       "      <td>61.168083</td>\n",
       "      <td>7.821003</td>\n",
       "      <td>0.581331</td>\n",
       "    </tr>\n",
       "    <tr>\n",
       "      <td>Propriva</td>\n",
       "      <td>52.322552</td>\n",
       "      <td>50.854632</td>\n",
       "      <td>42.351070</td>\n",
       "      <td>6.507770</td>\n",
       "      <td>0.512884</td>\n",
       "    </tr>\n",
       "    <tr>\n",
       "      <td>Ramicane</td>\n",
       "      <td>40.216745</td>\n",
       "      <td>40.673236</td>\n",
       "      <td>23.486704</td>\n",
       "      <td>4.846308</td>\n",
       "      <td>0.320955</td>\n",
       "    </tr>\n",
       "    <tr>\n",
       "      <td>Stelasyn</td>\n",
       "      <td>54.233149</td>\n",
       "      <td>52.431737</td>\n",
       "      <td>59.450562</td>\n",
       "      <td>7.710419</td>\n",
       "      <td>0.573111</td>\n",
       "    </tr>\n",
       "    <tr>\n",
       "      <td>Zoniferol</td>\n",
       "      <td>53.236507</td>\n",
       "      <td>51.818479</td>\n",
       "      <td>48.533355</td>\n",
       "      <td>6.966589</td>\n",
       "      <td>0.516398</td>\n",
       "    </tr>\n",
       "  </tbody>\n",
       "</table>\n",
       "</div>"
      ],
      "text/plain": [
       "              Tumor Volume (mm3)_mean  Tumor Volume (mm3)_median  \\\n",
       "Drug Regimen                                                       \n",
       "Capomulin                   40.675741                  41.557809   \n",
       "Ceftamin                    52.591172                  51.776157   \n",
       "Infubinol                   52.884795                  51.820584   \n",
       "Ketapril                    55.235638                  53.698743   \n",
       "Naftisol                    54.331565                  52.509285   \n",
       "Placebo                     54.033581                  52.288934   \n",
       "Propriva                    52.322552                  50.854632   \n",
       "Ramicane                    40.216745                  40.673236   \n",
       "Stelasyn                    54.233149                  52.431737   \n",
       "Zoniferol                   53.236507                  51.818479   \n",
       "\n",
       "              Tumor Volume (mm3)_var  Tumor Volume (mm3)_std  \\\n",
       "Drug Regimen                                                   \n",
       "Capomulin                  24.947764                4.994774   \n",
       "Ceftamin                   39.290177                6.268188   \n",
       "Infubinol                  43.128684                6.567243   \n",
       "Ketapril                   68.553577                8.279709   \n",
       "Naftisol                   66.173479                8.134708   \n",
       "Placebo                    61.168083                7.821003   \n",
       "Propriva                   42.351070                6.507770   \n",
       "Ramicane                   23.486704                4.846308   \n",
       "Stelasyn                   59.450562                7.710419   \n",
       "Zoniferol                  48.533355                6.966589   \n",
       "\n",
       "              Tumor Volume (mm3)_sem  \n",
       "Drug Regimen                          \n",
       "Capomulin                   0.329346  \n",
       "Ceftamin                    0.469821  \n",
       "Infubinol                   0.492236  \n",
       "Ketapril                    0.603860  \n",
       "Naftisol                    0.596466  \n",
       "Placebo                     0.581331  \n",
       "Propriva                    0.512884  \n",
       "Ramicane                    0.320955  \n",
       "Stelasyn                    0.573111  \n",
       "Zoniferol                   0.516398  "
      ]
     },
     "execution_count": 2,
     "metadata": {},
     "output_type": "execute_result"
    }
   ],
   "source": [
    "# Generate a summary statistics table of mean, median, variance, standard deviation, and SEM of the tumor volume for each regimen\n",
    "tv_df = mouse_merge[[\"Drug Regimen\",\"Tumor Volume (mm3)\"]]\n",
    "mm_names = mouse_merge[\"Drug Regimen\"].unique()\n",
    "#create different data frames for each of the statistics needed for the summary table\n",
    "tv_df_gb = mouse_merge.groupby(\"Drug Regimen\").count()\n",
    "tv_df_mean = tv_df.groupby(\"Drug Regimen\").mean()\n",
    "tv_df_median = tv_df.groupby(\"Drug Regimen\").median()\n",
    "tv_df_var = tv_df.groupby(\"Drug Regimen\").var()\n",
    "tv_df_std = tv_df.groupby(\"Drug Regimen\").std()\n",
    "tv_df_sem = tv_df.groupby(\"Drug Regimen\").sem()\n",
    "# merge together the data frames created above\n",
    "merge_tv = pd.merge(tv_df_mean,tv_df_median, on=\"Drug Regimen\",suffixes=('_mean','_median'))\n",
    "merge_tv = pd.merge(merge_tv,tv_df_var, on=\"Drug Regimen\").rename(columns={'Tumor Volume (mm3)':'Tumor Volume (mm3)_var'})\n",
    "merge_tv = pd.merge(merge_tv,tv_df_std, on=\"Drug Regimen\").rename(columns={'Tumor Volume (mm3)':'Tumor Volume (mm3)_std'})\n",
    "merge_tv = pd.merge(merge_tv,tv_df_sem, on=\"Drug Regimen\").rename(columns={'Tumor Volume (mm3)':'Tumor Volume (mm3)_sem'})\n",
    "# print the final data frame\n",
    "merge_tv\n"
   ]
  },
  {
   "cell_type": "code",
   "execution_count": 3,
   "metadata": {},
   "outputs": [
    {
     "data": {
      "image/png": "[encoded data removed]",
      "text/plain": [
       "<Figure size 432x288 with 1 Axes>"
      ]
     },
     "metadata": {
      "needs_background": "light"
     },
     "output_type": "display_data"
    }
   ],
   "source": [
    "# Generate a bar plot showing number of data points for each treatment regimen using pyplot\n",
    "# create the axis to plot using pyplot\n",
    "x_axis = np.arange(0,len(tv_df_gb),1)\n",
    "y_axis = tv_df_gb[\"Mouse ID\"]\n",
    "# plot the chart and change the colors\n",
    "plt.bar(x_axis,y_axis,color='r',alpha=0.5, align=\"center\")\n",
    "# Create tick locations and format the chart to look better\n",
    "tick_locations = [value for value in x_axis]\n",
    "plt.xticks(tick_locations,mm_names, rotation = 90)\n",
    "plt.title('Data Points per Drug Regimen')\n",
    "plt.xlabel('Drug Regimen')\n",
    "plt.ylabel('Number of Data Points')\n",
    "plt.show()"
   ]
  },
  {
   "cell_type": "markdown",
   "metadata": {},
   "source": [
    "## Bar plots"
   ]
  },
  {
   "cell_type": "code",
   "execution_count": 4,
   "metadata": {},
   "outputs": [
    {
     "data": {
      "image/png": "[encoded data removed]",
      "text/plain": [
       "<Figure size 432x288 with 1 Axes>"
      ]
     },
     "metadata": {
      "needs_background": "light"
     },
     "output_type": "display_data"
    }
   ],
   "source": [
    "# Generate a bar plot showing number of data points for each treatment regimen using pandas\n",
    "# Create tick locations and format the chart to look better\n",
    "tv_df_gb[\"Mouse ID\"].plot.bar(color='r',alpha=0.5, align=\"center\")\n",
    "tick_locations = [value for value in x_axis]\n",
    "plt.xticks(tick_locations,mm_names, rotation = 90)\n",
    "plt.title('Data Points per Drug Regimen')\n",
    "plt.xlabel('Drug Regimen')\n",
    "plt.ylabel('Number of Data Points')\n",
    "plt.show()"
   ]
  },
  {
   "cell_type": "markdown",
   "metadata": {},
   "source": [
    "## Pie plots"
   ]
  },
  {
   "cell_type": "code",
   "execution_count": 5,
   "metadata": {},
   "outputs": [
    {
     "data": {
      "text/html": [
       "<div>\n",
       "<style scoped>\n",
       "    .dataframe tbody tr th:only-of-type {\n",
       "        vertical-align: middle;\n",
       "    }\n",
       "\n",
       "    .dataframe tbody tr th {\n",
       "        vertical-align: top;\n",
       "    }\n",
       "\n",
       "    .dataframe thead th {\n",
       "        text-align: right;\n",
       "    }\n",
       "</style>\n",
       "<table border=\"1\" class=\"dataframe\">\n",
       "  <thead>\n",
       "    <tr style=\"text-align: right;\">\n",
       "      <th></th>\n",
       "      <th>Mouse ID</th>\n",
       "    </tr>\n",
       "    <tr>\n",
       "      <th>Sex</th>\n",
       "      <th></th>\n",
       "    </tr>\n",
       "  </thead>\n",
       "  <tbody>\n",
       "    <tr>\n",
       "      <td>Female</td>\n",
       "      <td>124</td>\n",
       "    </tr>\n",
       "    <tr>\n",
       "      <td>Male</td>\n",
       "      <td>125</td>\n",
       "    </tr>\n",
       "  </tbody>\n",
       "</table>\n",
       "</div>"
      ],
      "text/plain": [
       "        Mouse ID\n",
       "Sex             \n",
       "Female       124\n",
       "Male         125"
      ]
     },
     "execution_count": 5,
     "metadata": {},
     "output_type": "execute_result"
    }
   ],
   "source": [
    "# Generate a pie plot showing the distribution of female versus male mice using pandas\n",
    "# create a data frame for gender to be ploted in a pie chart\n",
    "gender_df = mouse_merge[[\"Mouse ID\",\"Sex\"]].drop_duplicates('Mouse ID')\n",
    "gender_df_gb = gender_df.groupby(\"Sex\").count()\n",
    "gender_df_gb\n",
    "# create a data frame with a column header of \"\" to plot easier\n",
    "gender_df_gb_plot = gender_df_gb.rename(columns={'Mouse ID':\"\"})\n",
    "gender_df_gb"
   ]
  },
  {
   "cell_type": "code",
   "execution_count": 6,
   "metadata": {},
   "outputs": [
    {
     "data": {
      "image/png": "[encoded data removed]",
      "text/plain": [
       "<Figure size 432x288 with 1 Axes>"
      ]
     },
     "metadata": {},
     "output_type": "display_data"
    }
   ],
   "source": [
    "# Generate a pie plot showing the distribution of female versus male mice using pyplot\n",
    "# create labels and titles for the pie chart in pyplot\n",
    "labels = [\"Female\",\"Male\"]\n",
    "values = [124,125]\n",
    "colors = [\"orange\", \"purple\"]\n",
    "explode = (0.1, 0)\n",
    "plt.title(\"Gender Distribution\")\n",
    "plt.pie(values, explode=explode, labels=labels, colors=colors, autopct=\"%1.1f%%\", shadow=True, startangle=90)\n",
    "plt.show()"
   ]
  },
  {
   "cell_type": "code",
   "execution_count": 7,
   "metadata": {},
   "outputs": [
    {
     "data": {
      "image/png": "[encoded data removed]",
      "text/plain": [
       "<Figure size 432x288 with 1 Axes>"
      ]
     },
     "metadata": {},
     "output_type": "display_data"
    }
   ],
   "source": [
    "# plot the same plot from above using pandas\n",
    "gender_df_gb_plot.plot(kind = \"pie\",title = \"Gender Distribution\",legend = False,subplots = True,startangle = 90, explode=explode, labels=labels, colors=colors,autopct=\"%1.1f%%\")\n",
    "plt.show()"
   ]
  },
  {
   "cell_type": "markdown",
   "metadata": {},
   "source": [
    "## Quartiles, outliers and boxplots"
   ]
  },
  {
   "cell_type": "code",
   "execution_count": 8,
   "metadata": {},
   "outputs": [
    {
     "data": {
      "text/html": [
       "<div>\n",
       "<style scoped>\n",
       "    .dataframe tbody tr th:only-of-type {\n",
       "        vertical-align: middle;\n",
       "    }\n",
       "\n",
       "    .dataframe tbody tr th {\n",
       "        vertical-align: top;\n",
       "    }\n",
       "\n",
       "    .dataframe thead tr th {\n",
       "        text-align: left;\n",
       "    }\n",
       "\n",
       "    .dataframe thead tr:last-of-type th {\n",
       "        text-align: right;\n",
       "    }\n",
       "</style>\n",
       "<table border=\"1\" class=\"dataframe\">\n",
       "  <thead>\n",
       "    <tr>\n",
       "      <th></th>\n",
       "      <th colspan=\"5\" halign=\"left\">Tumor Volume (mm3)</th>\n",
       "    </tr>\n",
       "    <tr>\n",
       "      <th></th>\n",
       "      <th>mean</th>\n",
       "      <th>median</th>\n",
       "      <th>var</th>\n",
       "      <th>std</th>\n",
       "      <th>sem</th>\n",
       "    </tr>\n",
       "    <tr>\n",
       "      <th>Drug Regimen</th>\n",
       "      <th></th>\n",
       "      <th></th>\n",
       "      <th></th>\n",
       "      <th></th>\n",
       "      <th></th>\n",
       "    </tr>\n",
       "  </thead>\n",
       "  <tbody>\n",
       "    <tr>\n",
       "      <td>Capomulin</td>\n",
       "      <td>40.675741</td>\n",
       "      <td>41.557809</td>\n",
       "      <td>24.947764</td>\n",
       "      <td>4.994774</td>\n",
       "      <td>0.329346</td>\n",
       "    </tr>\n",
       "    <tr>\n",
       "      <td>Ceftamin</td>\n",
       "      <td>52.591172</td>\n",
       "      <td>51.776157</td>\n",
       "      <td>39.290177</td>\n",
       "      <td>6.268188</td>\n",
       "      <td>0.469821</td>\n",
       "    </tr>\n",
       "    <tr>\n",
       "      <td>Infubinol</td>\n",
       "      <td>52.884795</td>\n",
       "      <td>51.820584</td>\n",
       "      <td>43.128684</td>\n",
       "      <td>6.567243</td>\n",
       "      <td>0.492236</td>\n",
       "    </tr>\n",
       "    <tr>\n",
       "      <td>Ketapril</td>\n",
       "      <td>55.235638</td>\n",
       "      <td>53.698743</td>\n",
       "      <td>68.553577</td>\n",
       "      <td>8.279709</td>\n",
       "      <td>0.603860</td>\n",
       "    </tr>\n",
       "    <tr>\n",
       "      <td>Naftisol</td>\n",
       "      <td>54.331565</td>\n",
       "      <td>52.509285</td>\n",
       "      <td>66.173479</td>\n",
       "      <td>8.134708</td>\n",
       "      <td>0.596466</td>\n",
       "    </tr>\n",
       "    <tr>\n",
       "      <td>Placebo</td>\n",
       "      <td>54.033581</td>\n",
       "      <td>52.288934</td>\n",
       "      <td>61.168083</td>\n",
       "      <td>7.821003</td>\n",
       "      <td>0.581331</td>\n",
       "    </tr>\n",
       "    <tr>\n",
       "      <td>Propriva</td>\n",
       "      <td>52.322552</td>\n",
       "      <td>50.854632</td>\n",
       "      <td>42.351070</td>\n",
       "      <td>6.507770</td>\n",
       "      <td>0.512884</td>\n",
       "    </tr>\n",
       "    <tr>\n",
       "      <td>Ramicane</td>\n",
       "      <td>40.216745</td>\n",
       "      <td>40.673236</td>\n",
       "      <td>23.486704</td>\n",
       "      <td>4.846308</td>\n",
       "      <td>0.320955</td>\n",
       "    </tr>\n",
       "    <tr>\n",
       "      <td>Stelasyn</td>\n",
       "      <td>54.233149</td>\n",
       "      <td>52.431737</td>\n",
       "      <td>59.450562</td>\n",
       "      <td>7.710419</td>\n",
       "      <td>0.573111</td>\n",
       "    </tr>\n",
       "    <tr>\n",
       "      <td>Zoniferol</td>\n",
       "      <td>53.236507</td>\n",
       "      <td>51.818479</td>\n",
       "      <td>48.533355</td>\n",
       "      <td>6.966589</td>\n",
       "      <td>0.516398</td>\n",
       "    </tr>\n",
       "  </tbody>\n",
       "</table>\n",
       "</div>"
      ],
      "text/plain": [
       "             Tumor Volume (mm3)                                          \n",
       "                           mean     median        var       std       sem\n",
       "Drug Regimen                                                             \n",
       "Capomulin             40.675741  41.557809  24.947764  4.994774  0.329346\n",
       "Ceftamin              52.591172  51.776157  39.290177  6.268188  0.469821\n",
       "Infubinol             52.884795  51.820584  43.128684  6.567243  0.492236\n",
       "Ketapril              55.235638  53.698743  68.553577  8.279709  0.603860\n",
       "Naftisol              54.331565  52.509285  66.173479  8.134708  0.596466\n",
       "Placebo               54.033581  52.288934  61.168083  7.821003  0.581331\n",
       "Propriva              52.322552  50.854632  42.351070  6.507770  0.512884\n",
       "Ramicane              40.216745  40.673236  23.486704  4.846308  0.320955\n",
       "Stelasyn              54.233149  52.431737  59.450562  7.710419  0.573111\n",
       "Zoniferol             53.236507  51.818479  48.533355  6.966589  0.516398"
      ]
     },
     "execution_count": 8,
     "metadata": {},
     "output_type": "execute_result"
    }
   ],
   "source": [
    "# Calculate the final tumor volume of each mouse across four of the most promising treatment regimens. Calculate the IQR and quantitatively determine if there are any potential outliers. \n",
    "# determine the top 4 most effective (by change in tumor volume)\n",
    "tumor_values_gb = mouse_merge[[\"Drug Regimen\",\"Timepoint\",\"Tumor Volume (mm3)\"]]\n",
    "# use the agg formula to group the drugs together to analyze which four are the most effective\n",
    "tumor_values_sort = tumor_values_gb.groupby(\"Drug Regimen\").agg({\"Tumor Volume (mm3)\":[\"mean\",\"median\",\"var\",\"std\",\"sem\"]})\n",
    "tumor_values_sort\n",
    "  \n",
    "    "
   ]
  },
  {
   "cell_type": "code",
   "execution_count": 9,
   "metadata": {},
   "outputs": [],
   "source": [
    "# Generate a box plot of the final tumor volume of each mouse across four regimens of interest\n",
    "# based on the original data, group by drug regimen and remove duplicate mouse IDs. This will give us only the last data point for each mouse\n",
    "tumor_values = mouse_merge[[\"Mouse ID\",\"Drug Regimen\",\"Timepoint\",\"Tumor Volume (mm3)\"]]\n",
    "tumor_values_sort = tumor_values.groupby([\"Drug Regimen\"])\n",
    "tumor_values_sorted = tumor_values.sort_values(by=[\"Timepoint\",\"Mouse ID\"], ascending = False).drop_duplicates('Mouse ID')\n",
    "tumor_values_indexed = tumor_values_sorted.set_index(\"Drug Regimen\")\n",
    "# create a list of values for each of the drugs to be analyzed\n",
    "ramicane = tumor_values_indexed.filter(like=\"Ramicane\",axis = 0)\n",
    "ramicane = ramicane[\"Tumor Volume (mm3)\"]\n",
    "capomulin = tumor_values_indexed.filter(like=\"Capomulin\",axis = 0)\n",
    "capomulin = capomulin[\"Tumor Volume (mm3)\"]\n",
    "ceftamin = tumor_values_indexed.filter(like=\"Ceftamin\",axis = 0)\n",
    "ceftamin = ceftamin[\"Tumor Volume (mm3)\"]\n",
    "infubinol = tumor_values_indexed.filter(like=\"Infubinol\",axis = 0)\n",
    "infubinol = infubinol[\"Tumor Volume (mm3)\"]\n",
    "\n",
    "        "
   ]
  },
  {
   "cell_type": "code",
   "execution_count": 10,
   "metadata": {},
   "outputs": [
    {
     "data": {
      "image/png": "[encoded data removed]",
      "text/plain": [
       "<Figure size 432x288 with 1 Axes>"
      ]
     },
     "metadata": {
      "needs_background": "light"
     },
     "output_type": "display_data"
    }
   ],
   "source": [
    "#create a box plot to incorporate all of the 4 drugs being analyze\n",
    "data = [ramicane, capomulin, ceftamin, infubinol]\n",
    "fig2, ax2 = plt.subplots()\n",
    "ax2.set_title('Tumor Size for Top 4 Drug Regimens')\n",
    "labels = [\"Ramicane\", \"Capomulin\", \"Ceftamin\", \"Infubinol\"]\n",
    "ax2.boxplot(data,labels=labels)\n",
    "plt.ylabel('Tumor Volume (mm3)')\n",
    "plt.show()\n"
   ]
  },
  {
   "cell_type": "code",
   "execution_count": 11,
   "metadata": {},
   "outputs": [
    {
     "data": {
      "image/png": "[encoded data removed]",
      "text/plain": [
       "<Figure size 432x288 with 1 Axes>"
      ]
     },
     "metadata": {
      "needs_background": "light"
     },
     "output_type": "display_data"
    },
    {
     "name": "stdout",
     "output_type": "stream",
     "text": [
      "The lower quartile of Tumor Volume is: 31.56\n",
      "The upper quartile of Tumor Volume is: 40.66\n",
      "The interquartile range of Tumor Volume is: 9.1\n",
      "The the median of Tumor Volume is: 36.56 \n",
      "Values below 17.91 could be outliers.\n",
      "Values above 54.31 could be outliers.\n"
     ]
    }
   ],
   "source": [
    "#create individual box plots and calcualte important metrics associated with the success of each drug\n",
    "fig1, ax1 = plt.subplots()\n",
    "ax1.set_title('Ramicane')\n",
    "ax1.set_ylabel('Tumor Volume (mm3)')\n",
    "ax1.boxplot(ramicane)\n",
    "plt.show()\n",
    "quartiles = ramicane.quantile([.25,.5,.75])\n",
    "lowerq = quartiles[0.25]\n",
    "upperq = quartiles[0.75]\n",
    "iqr = upperq-lowerq\n",
    "lower_bound = lowerq - (1.5*iqr)\n",
    "upper_bound = upperq + (1.5*iqr)\n",
    "print(f\"The lower quartile of Tumor Volume is: {round(lowerq,2)}\")\n",
    "print(f\"The upper quartile of Tumor Volume is: {round(upperq,2)}\")\n",
    "print(f\"The interquartile range of Tumor Volume is: {round(iqr,2)}\")\n",
    "print(f\"The the median of Tumor Volume is: {round(quartiles[0.5],2)} \")\n",
    "print(f\"Values below {round(lower_bound,2)} could be outliers.\")\n",
    "print(f\"Values above {round(upper_bound,2)} could be outliers.\")"
   ]
  },
  {
   "cell_type": "code",
   "execution_count": 12,
   "metadata": {},
   "outputs": [
    {
     "data": {
      "image/png": "[encoded data removed]",
      "text/plain": [
       "<Figure size 432x288 with 1 Axes>"
      ]
     },
     "metadata": {
      "needs_background": "light"
     },
     "output_type": "display_data"
    },
    {
     "name": "stdout",
     "output_type": "stream",
     "text": [
      "The lower quartile of Tumor Volume is: 32.38\n",
      "The upper quartile of Tumor Volume is: 40.16\n",
      "The interquartile range of Tumor Volume is: 7.78\n",
      "The the median of Tumor Volume is: 38.13 \n",
      "Values below 20.7 could be outliers.\n",
      "Values above 51.83 could be outliers.\n"
     ]
    }
   ],
   "source": [
    "#create individual box plots and calcualte important metrics associated with the success of each drug\n",
    "fig1, ax1 = plt.subplots()\n",
    "ax1.set_title('Capomulin')\n",
    "ax1.set_ylabel('Tumor Volume (mm3)')\n",
    "ax1.boxplot(capomulin)\n",
    "plt.show()\n",
    "#calculate the quartiles, bounds and IQR\n",
    "quartiles = capomulin.quantile([.25,.5,.75])\n",
    "lowerq = quartiles[0.25]\n",
    "upperq = quartiles[0.75]\n",
    "iqr = upperq-lowerq\n",
    "lower_bound = lowerq - (1.5*iqr)\n",
    "upper_bound = upperq + (1.5*iqr)\n",
    "#print all of this information\n",
    "print(f\"The lower quartile of Tumor Volume is: {round(lowerq,2)}\")\n",
    "print(f\"The upper quartile of Tumor Volume is: {round(upperq,2)}\")\n",
    "print(f\"The interquartile range of Tumor Volume is: {round(iqr,2)}\")\n",
    "print(f\"The the median of Tumor Volume is: {round(quartiles[0.5],2)} \")\n",
    "print(f\"Values below {round(lower_bound,2)} could be outliers.\")\n",
    "print(f\"Values above {round(upper_bound,2)} could be outliers.\")\n"
   ]
  },
  {
   "cell_type": "code",
   "execution_count": 13,
   "metadata": {},
   "outputs": [
    {
     "data": {
      "image/png": "[encoded data removed]",
      "text/plain": [
       "<Figure size 432x288 with 1 Axes>"
      ]
     },
     "metadata": {
      "needs_background": "light"
     },
     "output_type": "display_data"
    },
    {
     "name": "stdout",
     "output_type": "stream",
     "text": [
      "The lower quartile of Tumor Volume is: 48.72\n",
      "The upper quartile of Tumor Volume is: 64.3\n",
      "The interquartile range of Tumor Volume is: 15.58\n",
      "The the median of Tumor Volume is: 59.85 \n",
      "Values below 25.36 could be outliers.\n",
      "Values above 87.67 could be outliers.\n"
     ]
    }
   ],
   "source": [
    "#create individual box plots and calcualte important metrics associated with the success of each drug\n",
    "fig1, ax1 = plt.subplots()\n",
    "ax1.set_title('Ceftamin')\n",
    "ax1.set_ylabel('Tumor Volume (mm3)')\n",
    "ax1.boxplot(ceftamin)\n",
    "plt.show()\n",
    "quartiles = ceftamin.quantile([.25,.5,.75])\n",
    "lowerq = quartiles[0.25]\n",
    "upperq = quartiles[0.75]\n",
    "iqr = upperq-lowerq\n",
    "lower_bound = lowerq - (1.5*iqr)\n",
    "upper_bound = upperq + (1.5*iqr)\n",
    "print(f\"The lower quartile of Tumor Volume is: {round(lowerq,2)}\")\n",
    "print(f\"The upper quartile of Tumor Volume is: {round(upperq,2)}\")\n",
    "print(f\"The interquartile range of Tumor Volume is: {round(iqr,2)}\")\n",
    "print(f\"The the median of Tumor Volume is: {round(quartiles[0.5],2)} \")\n",
    "print(f\"Values below {round(lower_bound,2)} could be outliers.\")\n",
    "print(f\"Values above {round(upper_bound,2)} could be outliers.\")\n"
   ]
  },
  {
   "cell_type": "code",
   "execution_count": 14,
   "metadata": {},
   "outputs": [
    {
     "data": {
      "image/png": "[encoded data removed]",
      "text/plain": [
       "<Figure size 432x288 with 1 Axes>"
      ]
     },
     "metadata": {
      "needs_background": "light"
     },
     "output_type": "display_data"
    },
    {
     "name": "stdout",
     "output_type": "stream",
     "text": [
      "The lower quartile of Tumor Volume is: 54.05\n",
      "The upper quartile of Tumor Volume is: 65.53\n",
      "The interquartile range of Tumor Volume is: 11.48\n",
      "The the median of Tumor Volume is: 60.17 \n",
      "Values below 36.83 could be outliers.\n",
      "Values above 82.74 could be outliers.\n"
     ]
    }
   ],
   "source": [
    "#create individual box plots and calcualte important metrics associated with the success of each drug\n",
    "fig1, ax1 = plt.subplots()\n",
    "ax1.set_title('Infubinol')\n",
    "ax1.set_ylabel('Tumor Volume (mm3)')\n",
    "ax1.boxplot(infubinol)\n",
    "plt.show()\n",
    "quartiles = infubinol.quantile([.25,.5,.75])\n",
    "lowerq = quartiles[0.25]\n",
    "upperq = quartiles[0.75]\n",
    "iqr = upperq-lowerq\n",
    "lower_bound = lowerq - (1.5*iqr)\n",
    "upper_bound = upperq + (1.5*iqr)\n",
    "print(f\"The lower quartile of Tumor Volume is: {round(lowerq,2)}\")\n",
    "print(f\"The upper quartile of Tumor Volume is: {round(upperq,2)}\")\n",
    "print(f\"The interquartile range of Tumor Volume is: {round(iqr,2)}\")\n",
    "print(f\"The the median of Tumor Volume is: {round(quartiles[0.5],2)} \")\n",
    "print(f\"Values below {round(lower_bound,2)} could be outliers.\")\n",
    "print(f\"Values above {round(upper_bound,2)} could be outliers.\")\n"
   ]
  },
  {
   "cell_type": "markdown",
   "metadata": {},
   "source": [
    "## Line and scatter plots"
   ]
  },
  {
   "cell_type": "code",
   "execution_count": 15,
   "metadata": {},
   "outputs": [
    {
     "data": {
      "image/png": "[encoded data removed]",
      "text/plain": [
       "<Figure size 432x288 with 1 Axes>"
      ]
     },
     "metadata": {
      "needs_background": "light"
     },
     "output_type": "display_data"
    }
   ],
   "source": [
    "# Generate a line plot of time point versus tumor volume for a mouse treated with Capomulin\n",
    "#create a variable to hold the mouse ID for the analysis\n",
    "m_id = \"s185\"\n",
    "#set the index so that the filter can be used\n",
    "capomulin_mouse = mouse_merge.set_index(\"Drug Regimen\")\n",
    "# use filter to isolate all mice with Capomulin drugs\n",
    "capomulin_mouse = capomulin_mouse.filter(like=\"Capomulin\",axis = 0)\n",
    "#set new index to be able to filter on mouse id\n",
    "capomulin_mouse = capomulin_mouse.set_index(\"Mouse ID\")\n",
    "#filter by mouse id\n",
    "capomulin_mouse_single = capomulin_mouse.filter(like=m_id, axis = 0)\n",
    "capomulin_mouse_single = capomulin_mouse_single[[\"Timepoint\",\"Tumor Volume (mm3)\"]]\n",
    "#plot the line for the mouse\n",
    "plt.plot(capomulin_mouse_single[\"Timepoint\"],capomulin_mouse_single[\"Tumor Volume (mm3)\"])\n",
    "plt.title(f\"Tumor Volume (mm3) Over Time for {m_id}\")\n",
    "plt.xlabel('Timepoint')\n",
    "plt.ylabel('Tumer Volume (mm3)')\n",
    "plt.show()"
   ]
  },
  {
   "cell_type": "code",
   "execution_count": 16,
   "metadata": {},
   "outputs": [
    {
     "data": {
      "image/png": "[encoded data removed]",
      "text/plain": [
       "<Figure size 432x288 with 1 Axes>"
      ]
     },
     "metadata": {
      "needs_background": "light"
     },
     "output_type": "display_data"
    }
   ],
   "source": [
    "# Generate a scatter plot of mouse weight versus average tumor volume for the Capomulin regimen\n",
    "#group by the Capomulin mice to get the average tumor volume for each mouse\n",
    "capomulin_mouse\n",
    "capomulin_mouse_gb = capomulin_mouse[[\"Weight (g)\",\"Tumor Volume (mm3)\"]].groupby(\"Mouse ID\").mean()\n",
    "# assigne variables for weight and total volume\n",
    "weight = capomulin_mouse_gb[\"Weight (g)\"]\n",
    "tv = capomulin_mouse_gb[\"Tumor Volume (mm3)\"]\n",
    "\n",
    "#plot the scatter plot\n",
    "plt.scatter(weight,tv)\n",
    "plt.title('Tumer Size by Weight')\n",
    "plt.xlabel('Weight of Mice (g)')\n",
    "plt.ylabel('Tumer Volume (mm3)')\n",
    "plt.show()\n",
    "\n",
    "# plt.scatter(capomulin_mouse[\"Weight (g)\"],capomulin_mouse[\"Tumor Volume (mm3)\"])"
   ]
  },
  {
   "cell_type": "code",
   "execution_count": 17,
   "metadata": {},
   "outputs": [
    {
     "data": {
      "image/png": "[encoded data removed]",
      "text/plain": [
       "<Figure size 432x288 with 1 Axes>"
      ]
     },
     "metadata": {
      "needs_background": "light"
     },
     "output_type": "display_data"
    },
    {
     "name": "stdout",
     "output_type": "stream",
     "text": [
      "The correlation between both factors is 0.84\n"
     ]
    }
   ],
   "source": [
    "# Calculate the correlation coefficient and linear regression model for mouse weight and average tumor volume for the Capomulin regimen\n",
    "plt.scatter(weight,tv)\n",
    "#calculate regression and correlation information\n",
    "(slope, intercept, rvalue,pvalue,stderr) = linregress(weight,tv)\n",
    "regress_values = weight*slope+intercept\n",
    "#create the line equation\n",
    "line_eq = \"y = \" + str(round(slope,2)) + \"x + \" + str(round(intercept,2))\n",
    "#plot the original scatter plot and include the regression information\n",
    "plt.plot(weight,regress_values,\"r-\")\n",
    "plt.annotate(line_eq,(20,36),fontsize=15,color=\"red\")\n",
    "plt.title('Tumer Size by Weight')\n",
    "plt.xlabel('Weight of Mice (g)')\n",
    "plt.ylabel('Tumer Volume (mm3)')\n",
    "plt.show()\n",
    "#calculate and print the correlation efficient\n",
    "correlation = st.pearsonr(weight,tv)\n",
    "print(f\"The correlation between both factors is {round(correlation[0],2)}\")\n"
   ]
  }
 ],
 "metadata": {
  "anaconda-cloud": {},
  "kernelspec": {
   "display_name": "Python 3",
   "language": "python",
   "name": "python3"
  },
  "language_info": {
   "codemirror_mode": {
    "name": "ipython",
    "version": 3
   },
   "file_extension": ".py",
   "mimetype": "text/x-python",
   "name": "python",
   "nbconvert_exporter": "python",
   "pygments_lexer": "ipython3",
   "version": "3.7.4"
  }
 },
 "nbformat": 4,
 "nbformat_minor": 2
}
