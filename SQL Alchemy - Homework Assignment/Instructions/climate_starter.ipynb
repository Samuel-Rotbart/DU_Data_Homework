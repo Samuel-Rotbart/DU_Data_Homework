{
 "cells": [
  {
   "cell_type": "code",
   "execution_count": 1,
   "metadata": {},
   "outputs": [],
   "source": [
    "%matplotlib inline\n",
    "from matplotlib import style\n",
    "style.use('fivethirtyeight')\n",
    "import matplotlib.pyplot as plt"
   ]
  },
  {
   "cell_type": "code",
   "execution_count": 2,
   "metadata": {},
   "outputs": [],
   "source": [
    "import numpy as np\n",
    "import pandas as pd"
   ]
  },
  {
   "cell_type": "code",
   "execution_count": 3,
   "metadata": {},
   "outputs": [],
   "source": [
    "import datetime as dt"
   ]
  },
  {
   "cell_type": "markdown",
   "metadata": {},
   "source": [
    "# Reflect Tables into SQLAlchemy ORM"
   ]
  },
  {
   "cell_type": "code",
   "execution_count": 4,
   "metadata": {},
   "outputs": [],
   "source": [
    "# Python SQL toolkit and Object Relational Mapper\n",
    "import sqlalchemy\n",
    "from sqlalchemy.ext.automap import automap_base\n",
    "from sqlalchemy.orm import Session\n",
    "from sqlalchemy import create_engine, func, inspect"
   ]
  },
  {
   "cell_type": "code",
   "execution_count": 5,
   "metadata": {},
   "outputs": [],
   "source": [
    "engine = create_engine(\"sqlite:///Resources/hawaii.sqlite\")"
   ]
  },
  {
   "cell_type": "code",
   "execution_count": 6,
   "metadata": {},
   "outputs": [],
   "source": [
    "# reflect an existing database into a new model\n",
    "Base = automap_base()\n",
    "# reflect the tables\n",
    "Base.prepare(engine, reflect=True)"
   ]
  },
  {
   "cell_type": "code",
   "execution_count": 7,
   "metadata": {},
   "outputs": [
    {
     "data": {
      "text/plain": [
       "['measurement', 'station']"
      ]
     },
     "execution_count": 7,
     "metadata": {},
     "output_type": "execute_result"
    }
   ],
   "source": [
    "# We can view all of the classes that automap found\n",
    "Base.classes.keys()"
   ]
  },
  {
   "cell_type": "code",
   "execution_count": 8,
   "metadata": {},
   "outputs": [],
   "source": [
    "# Save references to each table\n",
    "Measurement = Base.classes.measurement\n",
    "Station = Base.classes.station"
   ]
  },
  {
   "cell_type": "code",
   "execution_count": 9,
   "metadata": {},
   "outputs": [],
   "source": [
    "# Create our session (link) from Python to the DB\n",
    "session = Session(engine)"
   ]
  },
  {
   "cell_type": "code",
   "execution_count": 10,
   "metadata": {},
   "outputs": [
    {
     "data": {
      "text/plain": [
       "['measurement', 'station']"
      ]
     },
     "execution_count": 10,
     "metadata": {},
     "output_type": "execute_result"
    }
   ],
   "source": [
    "inspector = inspect(engine)\n",
    "inspector.get_table_names()"
   ]
  },
  {
   "cell_type": "code",
   "execution_count": 11,
   "metadata": {},
   "outputs": [
    {
     "name": "stdout",
     "output_type": "stream",
     "text": [
      "id INTEGER\n",
      "station TEXT\n",
      "date TEXT\n",
      "prcp FLOAT\n",
      "tobs FLOAT\n"
     ]
    }
   ],
   "source": [
    "columns = inspector.get_columns('measurement')\n",
    "for c in columns:\n",
    "    print(c['name'], c[\"type\"])"
   ]
  },
  {
   "cell_type": "code",
   "execution_count": 12,
   "metadata": {},
   "outputs": [
    {
     "name": "stdout",
     "output_type": "stream",
     "text": [
      "id INTEGER\n",
      "station TEXT\n",
      "name TEXT\n",
      "latitude FLOAT\n",
      "longitude FLOAT\n",
      "elevation FLOAT\n"
     ]
    }
   ],
   "source": [
    "columns = inspector.get_columns('station')\n",
    "for c in columns:\n",
    "    print(c['name'], c[\"type\"])"
   ]
  },
  {
   "cell_type": "code",
   "execution_count": 13,
   "metadata": {},
   "outputs": [
    {
     "data": {
      "text/plain": [
       "[(497, 'USC00519397', '2011-07-01', 0.05, 77.0),\n",
       " (498, 'USC00519397', '2011-07-02', 0.02, 78.0),\n",
       " (499, 'USC00519397', '2011-07-03', 0.0, 78.0),\n",
       " (500, 'USC00519397', '2011-07-04', 0.0, 78.0),\n",
       " (501, 'USC00519397', '2011-07-05', 0.01, 78.0)]"
      ]
     },
     "execution_count": 13,
     "metadata": {},
     "output_type": "execute_result"
    }
   ],
   "source": [
    "engine.execute(f'SELECT * FROM measurement WHERE measurement.date BETWEEN \"2011-07-01\" AND \"2011-07-12\" LIMIT 5').fetchall()"
   ]
  },
  {
   "cell_type": "code",
   "execution_count": 14,
   "metadata": {},
   "outputs": [
    {
     "data": {
      "text/plain": [
       "[(1, 'USC00519397', 'WAIKIKI 717.2, HI US', 21.2716, -157.8168, 3.0),\n",
       " (2, 'USC00513117', 'KANEOHE 838.1, HI US', 21.4234, -157.8015, 14.6),\n",
       " (3, 'USC00514830', 'KUALOA RANCH HEADQUARTERS 886.9, HI US', 21.5213, -157.8374, 7.0),\n",
       " (4, 'USC00517948', 'PEARL CITY, HI US', 21.3934, -157.9751, 11.9),\n",
       " (5, 'USC00518838', 'UPPER WAHIAWA 874.3, HI US', 21.4992, -158.0111, 306.6)]"
      ]
     },
     "execution_count": 14,
     "metadata": {},
     "output_type": "execute_result"
    }
   ],
   "source": [
    "engine.execute('SELECT * FROM station LIMIT 5').fetchall()"
   ]
  },
  {
   "cell_type": "code",
   "execution_count": 15,
   "metadata": {},
   "outputs": [
    {
     "data": {
      "text/plain": [
       "{1: 'USC00519397',\n",
       " 2: 'USC00513117',\n",
       " 3: 'USC00514830',\n",
       " 4: 'USC00517948',\n",
       " 5: 'USC00518838',\n",
       " 6: 'USC00519523',\n",
       " 7: 'USC00519281',\n",
       " 8: 'USC00511918',\n",
       " 9: 'USC00516128'}"
      ]
     },
     "execution_count": 15,
     "metadata": {},
     "output_type": "execute_result"
    }
   ],
   "source": [
    "station_pd = pd.DataFrame(engine.execute('SELECT * FROM station').fetchall())\n",
    "station_pd = station_pd.rename(columns = {0:\"id\",1:\"station\",2:\"name\",3:\"latitude\",4:\"longitude\",5:\"elevation\"})\n",
    "station_pd.set_index(\"id\")\n",
    "station_dict = dict(zip(station_pd.id,station_pd.station))\n",
    "station_dict\n"
   ]
  },
  {
   "cell_type": "markdown",
   "metadata": {},
   "source": [
    "# Exploratory Climate Analysis"
   ]
  },
  {
   "cell_type": "code",
   "execution_count": 16,
   "metadata": {},
   "outputs": [
    {
     "data": {
      "image/png": "[encoded data removed]",
      "text/plain": [
       "<Figure size 432x288 with 1 Axes>"
      ]
     },
     "metadata": {
      "needs_background": "light"
     },
     "output_type": "display_data"
    }
   ],
   "source": [
    "# Design a query to retrieve the last 12 months of precipitation data and plot the results\n",
    "percep = pd.DataFrame(engine.execute(f'SELECT * FROM measurement ORDER BY measurement.date DESC').fetchall())\n",
    "percep.rename(columns={0:\"id\",1:\"station\",2:\"date\",3:\"prcp\",4:\"tobs\"},inplace = True)\n",
    "percep = percep.set_index(\"id\")\n",
    "max_date = percep.date.max()\n",
    "min_date = \"2016-08-23\"\n",
    "# Calculate the date 1 year ago from the last data point in the database\n",
    "prev_year = percep[percep[\"date\"]>=min_date]\n",
    "prev_year = prev_year.sort_values(\"date\")\n",
    "prcp = prev_year[\"prcp\"]\n",
    "plt.bar(prev_year.date,prcp,width=4)\n",
    "plt.show()\n",
    "# Save the query results as a Pandas DataFrame and set the index to the date column\n",
    "\n",
    "# Sort the dataframe by date\n",
    "\n",
    "# prev_year = prev_year[prev_year[\"prcp\"]!=0]\n",
    "# prev_year = prev_year.dropna()\n",
    "# prev_year\n",
    "# Perform a query to retrieve the data and precipitation scores\n",
    "# Use Pandas Plotting with Matplotlib to plot the data\n"
   ]
  },
  {
   "cell_type": "code",
   "execution_count": 17,
   "metadata": {},
   "outputs": [
    {
     "data": {
      "text/plain": [
       "{'2016-08-23': 80.0,\n",
       " '2016-08-24': 79.0,\n",
       " '2016-08-25': 81.0,\n",
       " '2016-08-26': 80.0,\n",
       " '2016-08-27': 77.0,\n",
       " '2016-08-28': 78.0,\n",
       " '2016-08-29': 80.0,\n",
       " '2016-08-30': 79.0,\n",
       " '2016-08-31': 79.0,\n",
       " '2016-09-01': 82.0,\n",
       " '2016-09-02': 80.0,\n",
       " '2016-09-03': 78.0,\n",
       " '2016-09-04': 75.0,\n",
       " '2016-09-05': 79.0,\n",
       " '2016-09-06': 78.0,\n",
       " '2016-09-07': 76.0,\n",
       " '2016-09-08': 80.0,\n",
       " '2016-09-09': 75.0,\n",
       " '2016-09-10': 75.0,\n",
       " '2016-09-11': 76.0,\n",
       " '2016-09-12': 76.0,\n",
       " '2016-09-13': 76.0,\n",
       " '2016-09-14': 73.0,\n",
       " '2016-09-15': 79.0,\n",
       " '2016-09-16': 79.0,\n",
       " '2016-09-17': 76.0,\n",
       " '2016-09-18': 81.0,\n",
       " '2016-09-19': 79.0,\n",
       " '2016-09-20': 73.0,\n",
       " '2016-09-21': 78.0,\n",
       " '2016-09-22': 76.0,\n",
       " '2016-09-23': 80.0,\n",
       " '2016-09-24': 81.0,\n",
       " '2016-09-25': 76.0,\n",
       " '2016-09-26': 80.0,\n",
       " '2016-09-27': 79.0,\n",
       " '2016-09-28': 78.0,\n",
       " '2016-09-29': 80.0,\n",
       " '2016-09-30': 78.0,\n",
       " '2016-10-01': 80.0,\n",
       " '2016-10-02': 80.0,\n",
       " '2016-10-03': 79.0,\n",
       " '2016-10-04': 79.0,\n",
       " '2016-10-05': 79.0,\n",
       " '2016-10-06': 80.0,\n",
       " '2016-10-07': 78.0,\n",
       " '2016-10-08': 74.0,\n",
       " '2016-10-09': 76.0,\n",
       " '2016-10-10': 75.0,\n",
       " '2016-10-11': 79.0,\n",
       " '2016-10-12': 80.0,\n",
       " '2016-10-13': 80.0,\n",
       " '2016-10-14': 80.0,\n",
       " '2016-10-15': 79.0,\n",
       " '2016-10-16': 81.0,\n",
       " '2016-10-17': 78.0,\n",
       " '2016-10-18': 80.0,\n",
       " '2016-10-19': 80.0,\n",
       " '2016-10-20': 79.0,\n",
       " '2016-10-21': 78.0,\n",
       " '2016-10-22': 79.0,\n",
       " '2016-10-23': 72.0,\n",
       " '2016-10-24': 76.0,\n",
       " '2016-10-25': 77.0,\n",
       " '2016-10-26': 78.0,\n",
       " '2016-10-27': 76.0,\n",
       " '2016-10-28': 78.0,\n",
       " '2016-10-29': 77.0,\n",
       " '2016-10-30': 78.0,\n",
       " '2016-10-31': 77.0,\n",
       " '2016-11-01': 73.0,\n",
       " '2016-11-02': 78.0,\n",
       " '2016-11-03': 77.0,\n",
       " '2016-11-04': 77.0,\n",
       " '2016-11-05': 76.0,\n",
       " '2016-11-06': 78.0,\n",
       " '2016-11-07': 71.0,\n",
       " '2016-11-08': 71.0,\n",
       " '2016-11-09': 71.0,\n",
       " '2016-11-10': 75.0,\n",
       " '2016-11-11': 72.0,\n",
       " '2016-11-12': 78.0,\n",
       " '2016-11-13': 78.0,\n",
       " '2016-11-14': 77.0,\n",
       " '2016-11-15': 77.0,\n",
       " '2016-11-16': 77.0,\n",
       " '2016-11-17': 77.0,\n",
       " '2016-11-18': 75.0,\n",
       " '2016-11-19': 75.0,\n",
       " '2016-11-20': 76.0,\n",
       " '2016-11-21': 73.0,\n",
       " '2016-11-22': 76.0,\n",
       " '2016-11-23': 72.0,\n",
       " '2016-11-24': 74.0,\n",
       " '2016-11-25': 74.0,\n",
       " '2016-11-26': 73.0,\n",
       " '2016-11-27': 76.0,\n",
       " '2016-11-28': 76.0,\n",
       " '2016-11-29': 68.0,\n",
       " '2016-11-30': 72.0,\n",
       " '2016-12-01': 75.0,\n",
       " '2016-12-02': 71.0,\n",
       " '2016-12-03': 75.0,\n",
       " '2016-12-04': 76.0,\n",
       " '2016-12-05': 70.0,\n",
       " '2016-12-06': 67.0,\n",
       " '2016-12-07': 71.0,\n",
       " '2016-12-08': 70.0,\n",
       " '2016-12-09': 70.0,\n",
       " '2016-12-10': 72.0,\n",
       " '2016-12-11': 70.0,\n",
       " '2016-12-12': 70.0,\n",
       " '2016-12-13': 68.0,\n",
       " '2016-12-14': 70.0,\n",
       " '2016-12-15': 68.0,\n",
       " '2016-12-16': 66.0,\n",
       " '2016-12-17': 71.0,\n",
       " '2016-12-18': 74.0,\n",
       " '2016-12-19': 71.0,\n",
       " '2016-12-20': 77.0,\n",
       " '2016-12-21': 73.0,\n",
       " '2016-12-22': 71.0,\n",
       " '2016-12-23': 68.0,\n",
       " '2016-12-24': 74.0,\n",
       " '2016-12-25': 74.0,\n",
       " '2016-12-26': 74.0,\n",
       " '2016-12-27': 74.0,\n",
       " '2016-12-28': 71.0,\n",
       " '2016-12-29': 71.0,\n",
       " '2016-12-30': 68.0,\n",
       " '2016-12-31': 66.0,\n",
       " '2017-01-01': 68.0,\n",
       " '2017-01-02': 66.0,\n",
       " '2017-01-03': 63.0,\n",
       " '2017-01-04': 70.0,\n",
       " '2017-01-05': 63.0,\n",
       " '2017-01-06': 64.0,\n",
       " '2017-01-07': 70.0,\n",
       " '2017-01-08': 60.0,\n",
       " '2017-01-09': 62.0,\n",
       " '2017-01-10': 75.0,\n",
       " '2017-01-11': 78.0,\n",
       " '2017-01-12': 67.0,\n",
       " '2017-01-13': 75.0,\n",
       " '2017-01-14': 65.0,\n",
       " '2017-01-15': 66.0,\n",
       " '2017-01-16': 80.0,\n",
       " '2017-01-17': 66.0,\n",
       " '2017-01-18': 73.0,\n",
       " '2017-01-19': 66.0,\n",
       " '2017-01-20': 71.0,\n",
       " '2017-01-21': 74.0,\n",
       " '2017-01-22': 72.0,\n",
       " '2017-01-23': 77.0,\n",
       " '2017-01-24': 67.0,\n",
       " '2017-01-25': 69.0,\n",
       " '2017-01-26': 71.0,\n",
       " '2017-01-27': 63.0,\n",
       " '2017-01-28': 64.0,\n",
       " '2017-01-29': 67.0,\n",
       " '2017-01-30': 68.0,\n",
       " '2017-01-31': 68.0,\n",
       " '2017-02-01': 62.0,\n",
       " '2017-02-02': 70.0,\n",
       " '2017-02-03': 65.0,\n",
       " '2017-02-04': 66.0,\n",
       " '2017-02-05': 73.0,\n",
       " '2017-02-06': 76.0,\n",
       " '2017-02-07': 67.0,\n",
       " '2017-02-08': 62.0,\n",
       " '2017-02-09': 64.0,\n",
       " '2017-02-10': 71.0,\n",
       " '2017-02-11': 69.0,\n",
       " '2017-02-12': 70.0,\n",
       " '2017-02-13': 74.0,\n",
       " '2017-02-14': 72.0,\n",
       " '2017-02-15': 76.0,\n",
       " '2017-02-16': 71.0,\n",
       " '2017-02-17': 77.0,\n",
       " '2017-02-18': 67.0,\n",
       " '2017-02-19': 69.0,\n",
       " '2017-02-20': 71.0,\n",
       " '2017-02-21': 71.0,\n",
       " '2017-02-22': 72.0,\n",
       " '2017-02-23': 72.0,\n",
       " '2017-02-24': 68.0,\n",
       " '2017-02-25': 64.0,\n",
       " '2017-02-26': 65.0,\n",
       " '2017-02-27': 69.0,\n",
       " '2017-02-28': 74.0,\n",
       " '2017-03-01': 66.0,\n",
       " '2017-03-02': 75.0,\n",
       " '2017-03-03': 69.0,\n",
       " '2017-03-04': 77.0,\n",
       " '2017-03-05': 71.0,\n",
       " '2017-03-06': 69.0,\n",
       " '2017-03-07': 67.0,\n",
       " '2017-03-08': 71.0,\n",
       " '2017-03-09': 68.0,\n",
       " '2017-03-10': 66.0,\n",
       " '2017-03-11': 71.0,\n",
       " '2017-03-12': 74.0,\n",
       " '2017-03-13': 69.0,\n",
       " '2017-03-14': 73.0,\n",
       " '2017-03-15': 71.0,\n",
       " '2017-03-16': 77.0,\n",
       " '2017-03-17': 68.0,\n",
       " '2017-03-18': 74.0,\n",
       " '2017-03-19': 74.0,\n",
       " '2017-03-20': 75.0,\n",
       " '2017-03-21': 72.0,\n",
       " '2017-03-22': 74.0,\n",
       " '2017-03-23': 70.0,\n",
       " '2017-03-24': 76.0,\n",
       " '2017-03-25': 76.0,\n",
       " '2017-03-26': 76.0,\n",
       " '2017-03-27': 78.0,\n",
       " '2017-03-28': 77.0,\n",
       " '2017-03-29': 74.0,\n",
       " '2017-03-30': 77.0,\n",
       " '2017-03-31': 78.0,\n",
       " '2017-04-01': 80.0,\n",
       " '2017-04-02': 76.0,\n",
       " '2017-04-03': 75.0,\n",
       " '2017-04-04': 75.0,\n",
       " '2017-04-05': 78.0,\n",
       " '2017-04-06': 73.0,\n",
       " '2017-04-07': 77.0,\n",
       " '2017-04-08': 77.0,\n",
       " '2017-04-09': 74.0,\n",
       " '2017-04-10': 75.0,\n",
       " '2017-04-11': 76.0,\n",
       " '2017-04-12': 74.0,\n",
       " '2017-04-13': 76.0,\n",
       " '2017-04-14': 75.0,\n",
       " '2017-04-15': 70.0,\n",
       " '2017-04-16': 74.0,\n",
       " '2017-04-17': 72.0,\n",
       " '2017-04-18': 75.0,\n",
       " '2017-04-19': 74.0,\n",
       " '2017-04-20': 75.0,\n",
       " '2017-04-21': 74.0,\n",
       " '2017-04-22': 76.0,\n",
       " '2017-04-23': 76.0,\n",
       " '2017-04-24': 77.0,\n",
       " '2017-04-25': 78.0,\n",
       " '2017-04-26': 78.0,\n",
       " '2017-04-27': 78.0,\n",
       " '2017-04-28': 71.0,\n",
       " '2017-04-29': 72.0,\n",
       " '2017-04-30': 63.0,\n",
       " '2017-05-01': 78.0,\n",
       " '2017-05-02': 78.0,\n",
       " '2017-05-03': 78.0,\n",
       " '2017-05-04': 77.0,\n",
       " '2017-05-05': 79.0,\n",
       " '2017-05-06': 78.0,\n",
       " '2017-05-07': 70.0,\n",
       " '2017-05-08': 77.0,\n",
       " '2017-05-09': 74.0,\n",
       " '2017-05-10': 76.0,\n",
       " '2017-05-11': 78.0,\n",
       " '2017-05-12': 70.0,\n",
       " '2017-05-13': 79.0,\n",
       " '2017-05-14': 78.0,\n",
       " '2017-05-15': 78.0,\n",
       " '2017-05-16': 78.0,\n",
       " '2017-05-17': 71.0,\n",
       " '2017-05-18': 69.0,\n",
       " '2017-05-19': 76.0,\n",
       " '2017-05-20': 78.0,\n",
       " '2017-05-21': 74.0,\n",
       " '2017-05-22': 77.0,\n",
       " '2017-05-23': 78.0,\n",
       " '2017-05-24': 76.0,\n",
       " '2017-05-25': 77.0,\n",
       " '2017-05-26': 73.0,\n",
       " '2017-05-27': 79.0,\n",
       " '2017-05-28': 76.0,\n",
       " '2017-05-29': 75.0,\n",
       " '2017-05-30': 81.0,\n",
       " '2017-05-31': 79.0,\n",
       " '2017-06-01': 79.0,\n",
       " '2017-06-02': 79.0,\n",
       " '2017-06-03': 79.0,\n",
       " '2017-06-04': 79.0,\n",
       " '2017-06-05': 78.0,\n",
       " '2017-06-06': 79.0,\n",
       " '2017-06-07': 80.0,\n",
       " '2017-06-08': 78.0,\n",
       " '2017-06-09': 80.0,\n",
       " '2017-06-10': 72.0,\n",
       " '2017-06-11': 76.0,\n",
       " '2017-06-12': 83.0,\n",
       " '2017-06-13': 81.0,\n",
       " '2017-06-14': 80.0,\n",
       " '2017-06-15': 77.0,\n",
       " '2017-06-16': 78.0,\n",
       " '2017-06-17': 80.0,\n",
       " '2017-06-18': 77.0,\n",
       " '2017-06-19': 78.0,\n",
       " '2017-06-20': 78.0,\n",
       " '2017-06-21': 75.0,\n",
       " '2017-06-22': 76.0,\n",
       " '2017-06-23': 78.0,\n",
       " '2017-06-24': 82.0,\n",
       " '2017-06-25': 80.0,\n",
       " '2017-06-26': 79.0,\n",
       " '2017-06-27': 80.0,\n",
       " '2017-06-28': 79.0,\n",
       " '2017-06-29': 78.0,\n",
       " '2017-06-30': 75.0,\n",
       " '2017-07-01': 80.0,\n",
       " '2017-07-02': 80.0,\n",
       " '2017-07-03': 78.0,\n",
       " '2017-07-04': 80.0,\n",
       " '2017-07-05': 80.0,\n",
       " '2017-07-06': 81.0,\n",
       " '2017-07-07': 79.0,\n",
       " '2017-07-08': 81.0,\n",
       " '2017-07-09': 80.0,\n",
       " '2017-07-10': 78.0,\n",
       " '2017-07-11': 81.0,\n",
       " '2017-07-12': 81.0,\n",
       " '2017-07-13': 81.0,\n",
       " '2017-07-14': 81.0,\n",
       " '2017-07-15': 82.0,\n",
       " '2017-07-16': 75.0,\n",
       " '2017-07-17': 80.0,\n",
       " '2017-07-18': 78.0,\n",
       " '2017-07-19': 81.0,\n",
       " '2017-07-20': 80.0,\n",
       " '2017-07-21': 81.0,\n",
       " '2017-07-22': 78.0,\n",
       " '2017-07-23': 81.0,\n",
       " '2017-07-24': 77.0,\n",
       " '2017-07-25': 80.0,\n",
       " '2017-07-26': 78.0,\n",
       " '2017-07-27': 79.0,\n",
       " '2017-07-28': 81.0,\n",
       " '2017-07-29': 77.0,\n",
       " '2017-07-30': 81.0,\n",
       " '2017-07-31': 80.0,\n",
       " '2017-08-01': 75.0,\n",
       " '2017-08-02': 73.0,\n",
       " '2017-08-03': 79.0,\n",
       " '2017-08-04': 81.0,\n",
       " '2017-08-05': 81.0,\n",
       " '2017-08-06': 83.0,\n",
       " '2017-08-07': 78.0,\n",
       " '2017-08-08': 80.0,\n",
       " '2017-08-09': 80.0,\n",
       " '2017-08-10': 81.0,\n",
       " '2017-08-11': 81.0,\n",
       " '2017-08-12': 80.0,\n",
       " '2017-08-13': 84.0,\n",
       " '2017-08-14': 79.0,\n",
       " '2017-08-15': 79.0,\n",
       " '2017-08-16': 82.0,\n",
       " '2017-08-17': 78.0,\n",
       " '2017-08-18': 80.0,\n",
       " '2017-08-19': 85.0,\n",
       " '2017-08-20': 81.0,\n",
       " '2017-08-21': 81.0,\n",
       " '2017-08-22': 82.0,\n",
       " '2017-08-23': 81.0}"
      ]
     },
     "execution_count": 17,
     "metadata": {},
     "output_type": "execute_result"
    }
   ],
   "source": [
    "prev_year_dict = prev_year[[\"date\",\"prcp\"]]\n",
    "prev_year_dict.set_index(\"date\")\n",
    "date = prev_year_dict[\"date\"]\n",
    "prcp = prev_year_dict[\"prcp\"]\n",
    "prcp_dict = dict(zip(date,prcp))\n",
    "prcp_dict\n",
    "prev_year_dict_tobs = prev_year[[\"date\",\"tobs\"]]\n",
    "prev_year_dict_tobs.set_index(\"date\")\n",
    "date = prev_year_dict_tobs[\"date\"]\n",
    "tobs = prev_year_dict_tobs[\"tobs\"]\n",
    "tobs_dict = dict(zip(date,tobs))\n",
    "tobs_dict\n",
    "\n",
    "# res = dict(zip(test_keys, test_values))"
   ]
  },
  {
   "cell_type": "markdown",
   "metadata": {},
   "source": [
    "![precipitation](Images/precipitation.png)"
   ]
  },
  {
   "cell_type": "code",
   "execution_count": 18,
   "metadata": {},
   "outputs": [
    {
     "data": {
      "text/html": [
       "<div>\n",
       "<style scoped>\n",
       "    .dataframe tbody tr th:only-of-type {\n",
       "        vertical-align: middle;\n",
       "    }\n",
       "\n",
       "    .dataframe tbody tr th {\n",
       "        vertical-align: top;\n",
       "    }\n",
       "\n",
       "    .dataframe thead th {\n",
       "        text-align: right;\n",
       "    }\n",
       "</style>\n",
       "<table border=\"1\" class=\"dataframe\">\n",
       "  <thead>\n",
       "    <tr style=\"text-align: right;\">\n",
       "      <th></th>\n",
       "      <th>precipitation</th>\n",
       "    </tr>\n",
       "  </thead>\n",
       "  <tbody>\n",
       "    <tr>\n",
       "      <td>count</td>\n",
       "      <td>2021.000000</td>\n",
       "    </tr>\n",
       "    <tr>\n",
       "      <td>mean</td>\n",
       "      <td>0.177279</td>\n",
       "    </tr>\n",
       "    <tr>\n",
       "      <td>std</td>\n",
       "      <td>0.461190</td>\n",
       "    </tr>\n",
       "    <tr>\n",
       "      <td>min</td>\n",
       "      <td>0.000000</td>\n",
       "    </tr>\n",
       "    <tr>\n",
       "      <td>25%</td>\n",
       "      <td>0.000000</td>\n",
       "    </tr>\n",
       "    <tr>\n",
       "      <td>50%</td>\n",
       "      <td>0.020000</td>\n",
       "    </tr>\n",
       "    <tr>\n",
       "      <td>75%</td>\n",
       "      <td>0.130000</td>\n",
       "    </tr>\n",
       "    <tr>\n",
       "      <td>max</td>\n",
       "      <td>6.700000</td>\n",
       "    </tr>\n",
       "  </tbody>\n",
       "</table>\n",
       "</div>"
      ],
      "text/plain": [
       "       precipitation\n",
       "count    2021.000000\n",
       "mean        0.177279\n",
       "std         0.461190\n",
       "min         0.000000\n",
       "25%         0.000000\n",
       "50%         0.020000\n",
       "75%         0.130000\n",
       "max         6.700000"
      ]
     },
     "execution_count": 18,
     "metadata": {},
     "output_type": "execute_result"
    }
   ],
   "source": [
    "# Use Pandas to calcualte the summary statistics for the precipitation data\n",
    "prev_year_desc = prev_year.describe()\n",
    "prev_year_desc = pd.DataFrame(prev_year_desc[\"prcp\"])\n",
    "prev_year_desc.rename(columns={\"prcp\":\"precipitation\"},inplace = True)\n",
    "prev_year_desc"
   ]
  },
  {
   "cell_type": "markdown",
   "metadata": {},
   "source": [
    "![describe](Images/describe.png)"
   ]
  },
  {
   "cell_type": "code",
   "execution_count": 19,
   "metadata": {},
   "outputs": [
    {
     "data": {
      "text/plain": [
       "[(9,)]"
      ]
     },
     "execution_count": 19,
     "metadata": {},
     "output_type": "execute_result"
    }
   ],
   "source": [
    "# Design a query to show how many stations are available in this dataset?\n",
    "engine.execute('SELECT count(*) FROM station').fetchall()\n"
   ]
  },
  {
   "cell_type": "code",
   "execution_count": 20,
   "metadata": {},
   "outputs": [
    {
     "data": {
      "text/plain": [
       "[('USC00519281', 2772),\n",
       " ('USC00519397', 2724),\n",
       " ('USC00513117', 2709),\n",
       " ('USC00519523', 2669),\n",
       " ('USC00516128', 2612),\n",
       " ('USC00514830', 2202),\n",
       " ('USC00511918', 1979),\n",
       " ('USC00517948', 1372),\n",
       " ('USC00518838', 511)]"
      ]
     },
     "execution_count": 20,
     "metadata": {},
     "output_type": "execute_result"
    }
   ],
   "source": [
    "# What are the most active stations? (i.e. what stations have the most rows)?\n",
    "# List the stations and the counts in descending order.\n",
    "sel = [Measurement.station,func.count(Measurement.station)]\n",
    "active = session.query(*sel).\\\n",
    "    group_by(Measurement.station).\\\n",
    "    order_by(func.count(Measurement.station).desc()).all()\n",
    "active"
   ]
  },
  {
   "cell_type": "code",
   "execution_count": 21,
   "metadata": {},
   "outputs": [
    {
     "data": {
      "text/plain": [
       "[(54.0, 85.0, 71.66378066378067)]"
      ]
     },
     "execution_count": 21,
     "metadata": {},
     "output_type": "execute_result"
    }
   ],
   "source": [
    "# Using the station id from the previous query, calculate the lowest temperature recorded, \n",
    "# highest temperature recorded, and average temperature of the most active station?\n",
    "sel = [func.min(Measurement.tobs),\n",
    "       func.max(Measurement.tobs),\n",
    "       func.avg(Measurement.tobs)]\n",
    "specific_station = session.query(*sel).filter(Measurement.station == 'USC00519281').all()\n",
    "specific_station"
   ]
  },
  {
   "cell_type": "code",
   "execution_count": null,
   "metadata": {},
   "outputs": [],
   "source": []
  },
  {
   "cell_type": "code",
   "execution_count": 22,
   "metadata": {},
   "outputs": [
    {
     "data": {
      "image/png": "[encoded data removed]",
      "text/plain": [
       "<Figure size 432x288 with 1 Axes>"
      ]
     },
     "metadata": {
      "needs_background": "light"
     },
     "output_type": "display_data"
    }
   ],
   "source": [
    "# Choose the station with the highest number of temperature observations.\n",
    "# Query the last 12 months of temperature observation data for this station\n",
    "# and plot the results as a histogram\n",
    "\n",
    "prev_year_filter = prev_year[prev_year[\"station\"]=='USC00519281']\n",
    "prev_year_filter = prev_year_filter[prev_year_filter[\"tobs\"]!=0]\n",
    "prev_year_filter = prev_year_filter.dropna()\n",
    "prev_year_filter = prev_year_filter[[\"station\",\"tobs\"]]\n",
    "prev_year_filter.hist(bins = 12)\n",
    "plt.show()\n",
    "\n"
   ]
  },
  {
   "cell_type": "code",
   "execution_count": null,
   "metadata": {},
   "outputs": [],
   "source": []
  },
  {
   "cell_type": "markdown",
   "metadata": {},
   "source": [
    "![precipitation](Images/station-histogram.png)"
   ]
  },
  {
   "cell_type": "code",
   "execution_count": 23,
   "metadata": {},
   "outputs": [
    {
     "name": "stdout",
     "output_type": "stream",
     "text": [
      "[(66.0, 70.375, 73.0)]\n"
     ]
    }
   ],
   "source": [
    "# This function called `calc_temps` will accept start date and end date in the format '%Y-%m-%d' \n",
    "# and return the minimum, average, and maximum temperatures for that range of dates\n",
    "def calc_temps(start_date, end_date):\n",
    "    \"\"\"TMIN, TAVG, and TMAX for a list of dates.\n",
    "    \n",
    "    Args:\n",
    "        start_date (string): A date string in the format %Y-%m-%d\n",
    "        end_date (string): A date string in the format %Y-%m-%d\n",
    "        \n",
    "    Returns:\n",
    "        TMIN, TAVE, and TMAX\n",
    "    \"\"\"\n",
    "    \n",
    "    return session.query(func.min(Measurement.tobs), func.avg(Measurement.tobs), func.max(Measurement.tobs)).\\\n",
    "        filter(Measurement.date >= start_date).filter(Measurement.date <= end_date).all()\n",
    "\n",
    "# function usage example\n",
    "print(calc_temps('2012-02-28', '2012-02-28'))"
   ]
  },
  {
   "cell_type": "code",
   "execution_count": 58,
   "metadata": {},
   "outputs": [
    {
     "data": {
      "text/plain": [
       "[{'Date': '2011-07-01', 'TMIN': 68.0, 'TAVE': 73.88, 'TMAX': 81.0},\n",
       " {'Date': '2011-07-02', 'TMIN': 73.0, 'TAVE': 76.0, 'TMAX': 79.0},\n",
       " {'Date': '2011-07-03', 'TMIN': 71.0, 'TAVE': 75.86, 'TMAX': 78.0},\n",
       " {'Date': '2011-07-04', 'TMIN': 70.0, 'TAVE': 75.29, 'TMAX': 78.0},\n",
       " {'Date': '2011-07-05', 'TMIN': 70.0, 'TAVE': 74.0, 'TMAX': 78.0},\n",
       " {'Date': '2011-07-06', 'TMIN': 69.0, 'TAVE': 73.67, 'TMAX': 79.0},\n",
       " {'Date': '2011-07-07', 'TMIN': 71.0, 'TAVE': 73.25, 'TMAX': 76.0},\n",
       " {'Date': '2011-07-08', 'TMIN': 71.0, 'TAVE': 74.75, 'TMAX': 77.0},\n",
       " {'Date': '2011-07-09', 'TMIN': 74.0, 'TAVE': 76.67, 'TMAX': 79.0},\n",
       " {'Date': '2011-07-10', 'TMIN': 71.0, 'TAVE': 76.14, 'TMAX': 79.0},\n",
       " {'Date': '2011-07-11', 'TMIN': 70.0, 'TAVE': 73.57, 'TMAX': 78.0},\n",
       " {'Date': '2011-07-12', 'TMIN': 67.0, 'TAVE': 73.71, 'TMAX': 77.0}]"
      ]
     },
     "execution_count": 58,
     "metadata": {},
     "output_type": "execute_result"
    }
   ],
   "source": [
    "# This function called `calc_temps` will accept start date and end date in the format '%Y-%m-%d' \n",
    "# and return the minimum, average, and maximum temperatures for each date in that range of dates\n",
    "# use group by to allow you to view all dates\n",
    "\n",
    "def calc_temps_by_date(start_date, end_date):\n",
    "    \"\"\"TMIN, TAVG, and TMAX for a list of dates.\n",
    "    \n",
    "    Args:\n",
    "        start_date (string): A date string in the format %Y-%m-%d\n",
    "        end_date (string): A date string in the format %Y-%m-%d\n",
    "        \n",
    "    Returns:\n",
    "        TMIN, TAVE, and TMAX\n",
    "    \"\"\"\n",
    "    \n",
    "    return session.query(Measurement.date, func.min(Measurement.tobs), func.avg(Measurement.tobs), func.max(Measurement.tobs)).\\\n",
    "        filter(Measurement.date >= start_date).filter(Measurement.date <= end_date).group_by(Measurement.date).all()\n",
    "\n",
    "# function usage example\n",
    "start_date = \"2011-07-01\"\n",
    "end_date = '2011-07-12'\n",
    "calc_temps_by_date(start_date, end_date)\n",
    "\n",
    "#add dates into dictionary and then create a list of the dictionaries to jsonify\n",
    "date_dict_list = []\n",
    "date_dict = {}\n",
    "\n",
    "row = 0\n",
    "for x in range(0,len(calc_temps_by_date(start_date, end_date))):\n",
    "    date_dict[\"Date\"] = calc_temps_by_date(start_date, end_date)[row][0]\n",
    "    date_dict[\"TMIN\"] = calc_temps_by_date(start_date, end_date)[row][1]\n",
    "    date_dict[\"TAVE\"] = round(calc_temps_by_date(start_date, end_date)[row][2],2)\n",
    "    date_dict[\"TMAX\"] = calc_temps_by_date(start_date, end_date)[row][3]\n",
    "    #append the dictionary created above to a list\n",
    "    date_dict_list.append(dict(date_dict))\n",
    "    row = row+1\n",
    "    \n",
    "date_dict_list\n",
    "    "
   ]
  },
  {
   "cell_type": "code",
   "execution_count": 25,
   "metadata": {},
   "outputs": [
    {
     "name": "stdout",
     "output_type": "stream",
     "text": [
      "[(67.0, 74.64367816091954, 81.0)]\n"
     ]
    }
   ],
   "source": [
    "# Use your previous function `calc_temps` to calculate the tmin, tavg, and tmax \n",
    "# for your trip using the previous year's data for those same dates.\n",
    "print(calc_temps(\"2011-07-01\", \"2011-07-12\"))"
   ]
  },
  {
   "cell_type": "code",
   "execution_count": 26,
   "metadata": {},
   "outputs": [
    {
     "ename": "TypeError",
     "evalue": "'str' object cannot be interpreted as an integer",
     "output_type": "error",
     "traceback": [
      "\u001b[1;31m---------------------------------------------------------------------------\u001b[0m",
      "\u001b[1;31mTypeError\u001b[0m                                 Traceback (most recent call last)",
      "\u001b[1;32m<ipython-input-26-810fb816d3b4>\u001b[0m in \u001b[0;36m<module>\u001b[1;34m\u001b[0m\n\u001b[0;32m      3\u001b[0m \u001b[0mbox\u001b[0m \u001b[1;33m=\u001b[0m \u001b[0mcalc_temps\u001b[0m\u001b[1;33m(\u001b[0m\u001b[0mstart_date\u001b[0m\u001b[1;33m,\u001b[0m \u001b[0mend_date\u001b[0m\u001b[1;33m)\u001b[0m\u001b[1;33m\u001b[0m\u001b[1;33m\u001b[0m\u001b[0m\n\u001b[0;32m      4\u001b[0m \u001b[0mdate_list\u001b[0m \u001b[1;33m=\u001b[0m \u001b[1;33m[\u001b[0m\u001b[1;33m]\u001b[0m\u001b[1;33m\u001b[0m\u001b[1;33m\u001b[0m\u001b[0m\n\u001b[1;32m----> 5\u001b[1;33m \u001b[1;32mfor\u001b[0m \u001b[0mdate\u001b[0m \u001b[1;32min\u001b[0m \u001b[0mrange\u001b[0m\u001b[1;33m(\u001b[0m\u001b[0mstart_date\u001b[0m\u001b[1;33m,\u001b[0m\u001b[0mend_date\u001b[0m\u001b[1;33m)\u001b[0m\u001b[1;33m:\u001b[0m\u001b[1;33m\u001b[0m\u001b[1;33m\u001b[0m\u001b[0m\n\u001b[0m\u001b[0;32m      6\u001b[0m     \u001b[0mdate_list\u001b[0m\u001b[1;33m.\u001b[0m\u001b[0mappend\u001b[0m\u001b[1;33m(\u001b[0m\u001b[0mdate\u001b[0m\u001b[1;33m)\u001b[0m\u001b[1;33m\u001b[0m\u001b[1;33m\u001b[0m\u001b[0m\n\u001b[0;32m      7\u001b[0m \u001b[1;33m\u001b[0m\u001b[0m\n",
      "\u001b[1;31mTypeError\u001b[0m: 'str' object cannot be interpreted as an integer"
     ]
    }
   ],
   "source": [
    "start_date = \"2011-07-01\"\n",
    "end_date = \"2011-07-12\"\n",
    "box = calc_temps(start_date, end_date)\n",
    "date_list = []\n",
    "for date in range(start_date,end_date):\n",
    "    date_list.append(date)\n",
    "    \n",
    "\n",
    "TAVE = round(box[0][1],2)\n",
    "TMAX = round(box[0][2],2)\n",
    "TMIN = round(box[0][0],2)\n",
    "\n",
    "date = []\n",
    "TAVE_list = []\n",
    "TMAX_list = []\n",
    "TMIN_list = []\n",
    "for date in box:\n",
    "#     date.append(Measurement.date)\n",
    "    TAVE_list.append(TAVE)\n",
    "    TMAX_list.append(TMAX)\n",
    "    TMIN_list.append(TMIN)\n",
    "\n",
    "TAVE_list\n",
    "    \n",
    "\n",
    "\n"
   ]
  },
  {
   "cell_type": "code",
   "execution_count": null,
   "metadata": {},
   "outputs": [],
   "source": [
    "# Plot the results from your previous query as a bar chart. \n",
    "# Use \"Trip Avg Temp\" as your Title\n",
    "# Use the average temperature for the y value\n",
    "# Use the peak-to-peak (tmax-tmin) value as the y error bar (yerr)\n",
    "box = calc_temps(\"2011-07-01\", \"2011-07-12\")\n",
    "TAVE = round(box[0][1],2)\n",
    "TMAX = round(box[0][2],2)\n",
    "TMIN = round(box[0][0],2)\n",
    "yerr = [TMIN-TMAX]\n",
    "# yerr\n",
    "TAVE_df = pd.DataFrame([TAVE])\n",
    "TAVE_df = TAVE_df.rename(columns={0:\"Temp (F)\"})\n",
    "TAVE_df.plot(kind=\"bar\",yerr = yerr)\n",
    "plt.title(\"Trip AVG Temp\")\n",
    "plt.ylabel(\"Temp (F)\")\n",
    "plt.show()\n",
    "# TAVE.dtypes\\"
   ]
  },
  {
   "cell_type": "code",
   "execution_count": null,
   "metadata": {},
   "outputs": [],
   "source": [
    "# Calculate the total amount of rainfall per weather station for your trip dates using the previous year's matching dates.\n",
    "# Sort this in descending order by precipitation amount and list the station, name, latitude, longitude, and elevation\n",
    "sel = [Measurement.station, Measurement.date, Station.name, Station.latitude, Station.longitude, Station.elevation, Measurement.prcp]\n",
    "same_station = session.query(*sel).\\\n",
    "    filter(Measurement.station == Station.station).\\\n",
    "    filter(Measurement.date<=\"2011-07-12\").\\\n",
    "    filter(Measurement.date>=\"2011-07-01\").all()\n",
    "for record in same_station:\n",
    "    (Measurement.station, Measurement.date, Station.name, Station.latitude, Station.longitude, Station.elevation, Measurement.prcp) = record\n",
    "    print(record)"
   ]
  },
  {
   "cell_type": "code",
   "execution_count": null,
   "metadata": {},
   "outputs": [],
   "source": []
  },
  {
   "cell_type": "markdown",
   "metadata": {},
   "source": [
    "## Optional Challenge Assignment"
   ]
  },
  {
   "cell_type": "code",
   "execution_count": null,
   "metadata": {},
   "outputs": [],
   "source": [
    "# Create a query that will calculate the daily normals \n",
    "# (i.e. the averages for tmin, tmax, and tavg for all historic data matching a specific month and day)\n",
    "\n",
    "def daily_normals(date):\n",
    "    \"\"\"Daily Normals.\n",
    "    \n",
    "    Args:\n",
    "        date (str): A date string in the format '%m-%d'\n",
    "        \n",
    "    Returns:\n",
    "        A list of tuples containing the daily normals, tmin, tavg, and tmax\n",
    "    \n",
    "    \"\"\"\n",
    "    \n",
    "    sel = [func.min(Measurement.tobs), func.avg(Measurement.tobs), func.max(Measurement.tobs)]\n",
    "    return session.query(*sel).filter(func.strftime(\"%m-%d\", Measurement.date) == date).all()\n",
    "    \n",
    "daily_normals(\"01-01\")"
   ]
  },
  {
   "cell_type": "code",
   "execution_count": null,
   "metadata": {},
   "outputs": [],
   "source": [
    "# calculate the daily normals for your trip\n",
    "# push each tuple of calculations into a list called `normals`\n",
    "\n",
    "# Set the start and end date of the trip\n",
    "\n",
    "# Use the start and end date to create a range of dates\n",
    "\n",
    "# Stip off the year and save a list of %m-%d strings\n",
    "\n",
    "# Loop through the list of %m-%d strings and calculate the normals for each date\n"
   ]
  },
  {
   "cell_type": "code",
   "execution_count": null,
   "metadata": {},
   "outputs": [],
   "source": [
    "# Load the previous query results into a Pandas DataFrame and add the `trip_dates` range as the `date` index\n"
   ]
  },
  {
   "cell_type": "code",
   "execution_count": null,
   "metadata": {},
   "outputs": [],
   "source": [
    "# Plot the daily normals as an area plot with `stacked=False`\n"
   ]
  }
 ],
 "metadata": {
  "kernel_info": {
   "name": "python3"
  },
  "kernelspec": {
   "display_name": "Python 3",
   "language": "python",
   "name": "python3"
  },
  "language_info": {
   "codemirror_mode": {
    "name": "ipython",
    "version": 3
   },
   "file_extension": ".py",
   "mimetype": "text/x-python",
   "name": "python",
   "nbconvert_exporter": "python",
   "pygments_lexer": "ipython3",
   "version": "3.7.4"
  },
  "nteract": {
   "version": "0.12.3"
  },
  "varInspector": {
   "cols": {
    "lenName": 16,
    "lenType": 16,
    "lenVar": 40
   },
   "kernels_config": {
    "python": {
     "delete_cmd_postfix": "",
     "delete_cmd_prefix": "del ",
     "library": "var_list.py",
     "varRefreshCmd": "print(var_dic_list())"
    },
    "r": {
     "delete_cmd_postfix": ") ",
     "delete_cmd_prefix": "rm(",
     "library": "var_list.r",
     "varRefreshCmd": "cat(var_dic_list()) "
    }
   },
   "types_to_exclude": [
    "module",
    "function",
    "builtin_function_or_method",
    "instance",
    "_Feature"
   ],
   "window_display": false
  }
 },
 "nbformat": 4,
 "nbformat_minor": 2
}
